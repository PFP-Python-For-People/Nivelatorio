{
 "cells": [
  {
   "cell_type": "markdown",
   "id": "87c8b486",
   "metadata": {},
   "source": [
    "# Taller de práctica\n",
    "\n",
    "Durante esta certificación aprendimos desde los aspectos más básicos como la creación de variables y la operación de las mismas hasta niveles avanzados de gestión de informacióm"
   ]
  },
  {
   "cell_type": "markdown",
   "id": "fbda6e44",
   "metadata": {},
   "source": [
    "### CICLO 1 - ASPECTOS BÁSICOS\n",
    "\n",
    "#### Ejemplo 1: Variables y Operaciones Básicas"
   ]
  },
  {
   "cell_type": "code",
   "execution_count": 28,
   "id": "916e1cc9",
   "metadata": {},
   "outputs": [
    {
     "name": "stdout",
     "output_type": "stream",
     "text": [
      "Suma: 15\n",
      "Resta: 5\n",
      "Multiplicación: 50\n",
      "División: 2.0\n"
     ]
    }
   ],
   "source": [
    "numero1 = 10\n",
    "numero2 = 5\n",
    "\n",
    "suma = numero1 + numero2\n",
    "resta = numero1 - numero2\n",
    "multiplicacion = numero1 * numero2\n",
    "division = numero1 / numero2\n",
    "\n",
    "print(\"Suma:\", suma)\n",
    "print(\"Resta:\", resta)\n",
    "print(\"Multiplicación:\", multiplicacion)\n",
    "print(\"División:\", division)"
   ]
  },
  {
   "cell_type": "markdown",
   "id": "6a3e8852",
   "metadata": {},
   "source": [
    "#### Ejemplo 2: Estructuras de Control - Bucle For\n",
    "\n",
    "Aprendimos tambien del control de flujo"
   ]
  },
  {
   "cell_type": "code",
   "execution_count": 10,
   "id": "f0700046",
   "metadata": {},
   "outputs": [
    {
     "name": "stdout",
     "output_type": "stream",
     "text": [
      "Factorial de 5 es 120\n"
     ]
    }
   ],
   "source": [
    "n = 5\n",
    "factorial = 1\n",
    "for i in range(1, n+1):\n",
    "    factorial *= i\n",
    "print(\"Factorial de\", n, \"es\", factorial)"
   ]
  },
  {
   "cell_type": "markdown",
   "id": "dceb3c6f",
   "metadata": {},
   "source": [
    "#### Ejemplo 3: Funciones y Listas\n",
    "\n",
    "Aprendimos de las funciones y listas"
   ]
  },
  {
   "cell_type": "code",
   "execution_count": 30,
   "id": "b2601bd6",
   "metadata": {},
   "outputs": [
    {
     "name": "stdout",
     "output_type": "stream",
     "text": [
      "El número máximo es: 9\n"
     ]
    }
   ],
   "source": [
    "def encontrar_maximo(lista):\n",
    "    maximo = lista[0]\n",
    "    for num in lista:\n",
    "        if num > maximo:\n",
    "            maximo = num\n",
    "    return maximo\n",
    "\n",
    "numeros = [3, 7, 1, 9, 4, 6]\n",
    "print(\"El número máximo es:\", encontrar_maximo(numeros))"
   ]
  },
  {
   "cell_type": "markdown",
   "id": "5ff2bb50",
   "metadata": {},
   "source": [
    "#### Ejemplo 4: Manipulación de Cadenas\n",
    "\n",
    "De las formas en que podemos manipular las cadenas de texto"
   ]
  },
  {
   "cell_type": "code",
   "execution_count": 32,
   "id": "516fa1bd",
   "metadata": {},
   "outputs": [
    {
     "name": "stdout",
     "output_type": "stream",
     "text": [
      "Número de palabras: 7\n"
     ]
    }
   ],
   "source": [
    "cadena = \"Python es un lenguaje de programación poderoso\"\n",
    "palabras = cadena.split()\n",
    "print(\"Número de palabras:\", len(palabras))"
   ]
  },
  {
   "cell_type": "markdown",
   "id": "edb8e345",
   "metadata": {},
   "source": [
    "#### Ejemplo 5: Creación y Manipulación de DataFrames\n",
    "\n",
    "De la generación de dataframes usando pandas"
   ]
  },
  {
   "cell_type": "code",
   "execution_count": 34,
   "id": "51f29310",
   "metadata": {},
   "outputs": [
    {
     "name": "stdout",
     "output_type": "stream",
     "text": [
      "    Nombre  Edad  Puntuación\n",
      "0    Alice    25          88\n",
      "1      Bob    30          92\n",
      "2  Charlie    35          78\n",
      "3    David    28          95\n",
      "4      Eva    22          89\n"
     ]
    }
   ],
   "source": [
    "import pandas as pd\n",
    "\n",
    "data = {\n",
    "    'Nombre': ['Alice', 'Bob', 'Charlie', 'David', 'Eva'],\n",
    "    'Edad': [25, 30, 35, 28, 22],\n",
    "    'Puntuación': [88, 92, 78, 95, 89]\n",
    "}\n",
    "\n",
    "df = pd.DataFrame(data)\n",
    "print(df)"
   ]
  },
  {
   "cell_type": "markdown",
   "id": "625564d3",
   "metadata": {},
   "source": [
    "#### Ejemplo 6: Operaciones Avanzadas de Pandas\n",
    "\n",
    "Y algunas opciones filtrado y la realización de cálculos sobre los dataframes"
   ]
  },
  {
   "cell_type": "code",
   "execution_count": 35,
   "id": "c550dafb",
   "metadata": {},
   "outputs": [
    {
     "name": "stdout",
     "output_type": "stream",
     "text": [
      "Media de Puntuación: 88.4\n",
      "Personas mayores de 30 años:\n",
      "    Nombre  Edad  Puntuación\n",
      "2  Charlie    35          78\n"
     ]
    }
   ],
   "source": [
    "# Calcular la media de la puntuación\n",
    "media_puntuacion = df['Puntuación'].mean()\n",
    "print(\"Media de Puntuación:\", media_puntuacion)\n",
    "\n",
    "# Seleccionar filas con edad superior a 30\n",
    "mayores_de_30 = df[df['Edad'] > 30]\n",
    "print(\"Personas mayores de 30 años:\")\n",
    "print(mayores_de_30)\n"
   ]
  },
  {
   "cell_type": "markdown",
   "id": "a5d6927e",
   "metadata": {},
   "source": [
    "#### Ejemplo 7: Gráfico de Barras\n",
    "\n",
    "Aprendimos a generar gráficos usando una de las librerías disponibles"
   ]
  },
  {
   "cell_type": "code",
   "execution_count": 36,
   "id": "14bc627a",
   "metadata": {},
   "outputs": [
    {
     "data": {
      "image/png": "[encoded data removed]",
      "text/plain": [
       "<Figure size 640x480 with 1 Axes>"
      ]
     },
     "metadata": {},
     "output_type": "display_data"
    }
   ],
   "source": [
    "import matplotlib.pyplot as plt\n",
    "\n",
    "\n",
    "nombres = df['Nombre']\n",
    "puntuaciones = df['Puntuación']\n",
    "\n",
    "plt.bar(nombres, puntuaciones)\n",
    "plt.xlabel('Nombres')\n",
    "plt.ylabel('Puntuación')\n",
    "plt.title('Puntuación de Personas')\n",
    "plt.show()\n"
   ]
  },
  {
   "cell_type": "markdown",
   "id": "abee6c19",
   "metadata": {},
   "source": [
    "#### Ejemplo 8: Gráfico de Línea\n",
    "\n",
    "Y vimos múltiples alternativas de visualización"
   ]
  },
  {
   "cell_type": "code",
   "execution_count": 38,
   "id": "024547d2",
   "metadata": {},
   "outputs": [
    {
     "data": {
      "image/png": "[encoded data removed]",
      "text/plain": [
       "<Figure size 640x480 with 1 Axes>"
      ]
     },
     "metadata": {},
     "output_type": "display_data"
    }
   ],
   "source": [
    "edades = df['Edad']\n",
    "\n",
    "plt.plot(nombres, edades, marker='o', color='b', label='Edades')\n",
    "plt.xlabel('Nombres')\n",
    "plt.ylabel('Edad')\n",
    "plt.title('Edad de Personas')\n",
    "plt.legend()\n",
    "plt.show()"
   ]
  },
  {
   "cell_type": "markdown",
   "id": "edca8d80",
   "metadata": {},
   "source": [
    "# Ejercicio del ciclo "
   ]
  },
  {
   "cell_type": "markdown",
   "id": "3a9d51b7",
   "metadata": {},
   "source": [
    "Con esto cerramos los aspectos básicos de manipulación y visualización de información. Te invitamos a realizar el siguiente ejercicio:\n",
    "\n",
    "**Planteamiento del Ejercicio: Calculadora de Estadísticas Básicas**\n",
    "\n",
    "**Contexto:**\n",
    "Queremos crear una calculadora de estadísticas básicas en Python que pueda calcular la media, la mediana y la desviación estándar de un conjunto de números proporcionados por el usuario.\n",
    "\n",
    "**Requerimientos:**\n",
    "1. La calculadora debe solicitar al usuario que ingrese una lista de números separados por espacios.\n",
    "\n",
    "2. La calculadora debe calcular y mostrar la media, la mediana y la desviación estándar de los números proporcionados.\n",
    "\n",
    "**Pasos:**\n",
    "\n",
    "1. **Solicitar Input del Usuario:**\n",
    "   - Mostrar un mensaje solicitando al usuario que ingrese una lista de números separados por espacios.\n",
    "   - Leer la entrada del usuario y convertirla en una lista de números.\n",
    "\n",
    "2. **Calcular la Media:**\n",
    "   - Definir una función llamada `calcular_media` que tome una lista de números como entrada y calcule la media.\n",
    "   - Utilizar la fórmula: Media = Suma de todos los números / Cantidad de números.\n",
    "\n",
    "3. **Calcular la Mediana:**\n",
    "   - Definir una función llamada `calcular_mediana` que tome una lista de números como entrada y calcule la mediana.\n",
    "   - Ordenar la lista de números.\n",
    "   - Si la cantidad de números es impar, la mediana es el número en el medio de la lista ordenada.\n",
    "   - Si la cantidad de números es par, la mediana es el promedio de los dos números en el medio de la lista ordenada.\n",
    "\n",
    "4. **Calcular la Desviación Estándar:**\n",
    "   - Definir una función llamada `calcular_desviacion_estandar` que tome una lista de números como entrada y calcule la desviación estándar.\n",
    "   - Calcular la media de los números.\n",
    "   - Calcular la suma de los cuadrados de las diferencias entre cada número y la media.\n",
    "   - La desviación estándar es la raíz cuadrada de la media de estos cuadrados.\n",
    "\n",
    "5. **Mostrar Resultados:**\n",
    "   - Llamar a las funciones para calcular la media, la mediana y la desviación estándar con la lista de números ingresada por el usuario.\n",
    "   - Mostrar los resultados con un mensaje indicando qué estadística representa cada valor calculado.\n",
    "\n",
    "**Nota:**\n",
    "- Es importante manejar las entradas del usuario con cuidado. Asegurarse de que los números ingresados sean válidos y manejar casos en los que el usuario no ingrese números adecuadamente.\n",
    "- Al mostrar los resultados, es útil formatear los valores para que sean fáciles de entender para el usuario. Por ejemplo, mostrar los números con un cierto número de decimales de precisión."
   ]
  },
  {
   "cell_type": "markdown",
   "id": "c220c473",
   "metadata": {},
   "source": [
    "### CICLO 2 - ASPECTOS INTERMEDIOS\n",
    "\n",
    "Aspectos diversos que nos ayudaron a ir a mmayor profundidad en el aprendizaje del lenguaje"
   ]
  },
  {
   "cell_type": "markdown",
   "id": "4b6c1d85",
   "metadata": {},
   "source": [
    "#### Ejemplo 1: Manejo de Excepciones\n",
    "\n",
    "Gestionamos errores de manera estructurada a través de la utilización de la sintáxis de excepciones disponible en el lenguaje."
   ]
  },
  {
   "cell_type": "code",
   "execution_count": 39,
   "id": "489488ad",
   "metadata": {},
   "outputs": [
    {
     "name": "stdout",
     "output_type": "stream",
     "text": [
      "Resultado: Error: División por cero\n"
     ]
    }
   ],
   "source": [
    "try:\n",
    "    resultado = 10 / 0\n",
    "except ZeroDivisionError:\n",
    "    resultado = \"Error: División por cero\"\n",
    "finally:\n",
    "    print(\"Resultado:\", resultado)"
   ]
  },
  {
   "cell_type": "markdown",
   "id": "c290c672",
   "metadata": {},
   "source": [
    "#### Ejemplo 2: Programación Orientada a Objetos\n",
    "\n",
    "Aprendimos acerca del paradigma de programación orientado a objetos, anotaciones y estructuras que lo posiblitan en Python"
   ]
  },
  {
   "cell_type": "code",
   "execution_count": 18,
   "id": "727f461c",
   "metadata": {},
   "outputs": [
    {
     "name": "stdout",
     "output_type": "stream",
     "text": [
      "Me llamo Alice y tengo 30 años.\n"
     ]
    }
   ],
   "source": [
    "\n",
    "class Persona:\n",
    "    def __init__(self, nombre, edad):\n",
    "        self.nombre = nombre\n",
    "        self.edad = edad\n",
    "\n",
    "    def presentarse(self):\n",
    "        print(f\"Me llamo {self.nombre} y tengo {self.edad} años.\")\n",
    "\n",
    "persona1 = Persona(\"Alice\", 30)\n",
    "persona1.presentarse()\n"
   ]
  },
  {
   "cell_type": "markdown",
   "id": "c03e905d",
   "metadata": {},
   "source": [
    "#### Ejemplo 3: Combinación de DataFrames\n",
    "Continuamos en con el aprendizaje de Pandas y en esta ocasión revisamos operaciones entre múltiples Dataframe"
   ]
  },
  {
   "cell_type": "code",
   "execution_count": 41,
   "id": "164c3e17",
   "metadata": {},
   "outputs": [
    {
     "name": "stdout",
     "output_type": "stream",
     "text": [
      "    A   B\n",
      "0  A0  B0\n",
      "1  A1  B1\n",
      "2  A2  B2\n",
      "3  A3  B3\n",
      "0  A4  B4\n",
      "1  A5  B5\n",
      "2  A6  B6\n",
      "3  A7  B7\n"
     ]
    }
   ],
   "source": [
    "df1 = pd.DataFrame({'A': ['A0', 'A1', 'A2', 'A3'],\n",
    "                   'B': ['B0', 'B1', 'B2', 'B3']})\n",
    "\n",
    "df2 = pd.DataFrame({'A': ['A4', 'A5', 'A6', 'A7'],\n",
    "                   'B': ['B4', 'B5', 'B6', 'B7']})\n",
    "\n",
    "result = pd.concat([df1, df2])\n",
    "print(result)"
   ]
  },
  {
   "cell_type": "markdown",
   "id": "94390ade",
   "metadata": {},
   "source": [
    "#### Ejemplo 4: Análisis de Datos Avanzado\n",
    "\n",
    "Revisamos casos con datasets de prueba y empleamos múltiples funcionalidades de Pandas para operar sobre los dataframes"
   ]
  },
  {
   "cell_type": "code",
   "execution_count": 42,
   "id": "5e9e8342",
   "metadata": {},
   "outputs": [
    {
     "name": "stdout",
     "output_type": "stream",
     "text": [
      "    Nombre  Edad  Puntuación  Suma Acumulativa\n",
      "0    Alice    25          88                88\n",
      "1      Bob    30          92               180\n",
      "2  Charlie    35          78               258\n",
      "3    David    28          95               353\n",
      "4      Eva    22          89               442\n"
     ]
    }
   ],
   "source": [
    "# Calcular la suma acumulativa de la columna 'Puntuación'\n",
    "df['Suma Acumulativa'] = df['Puntuación'].cumsum()\n",
    "print(df)"
   ]
  },
  {
   "cell_type": "markdown",
   "id": "73eabd59",
   "metadata": {},
   "source": [
    "#### Ejemplo 5: Gráfico de Dispersión 3D\n",
    "\n",
    "avanzamos en el proceso de generación de visualizaciones incluyendo nuevas herramientas como seaborns, geopandas y folium."
   ]
  },
  {
   "cell_type": "code",
   "execution_count": 43,
   "id": "ca35c573",
   "metadata": {},
   "outputs": [
    {
     "data": {
      "image/png": "[encoded data removed]",
      "text/plain": [
       "<Figure size 640x480 with 1 Axes>"
      ]
     },
     "metadata": {},
     "output_type": "display_data"
    }
   ],
   "source": [
    "from mpl_toolkits.mplot3d import Axes3D\n",
    "\n",
    "\n",
    "fig = plt.figure()\n",
    "ax = fig.add_subplot(111, projection='3d')\n",
    "\n",
    "x = df['Edad']\n",
    "y = df['Puntuación']\n",
    "z = df['Suma Acumulativa']\n",
    "\n",
    "ax.scatter(x, y, z, c='r', marker='o')\n",
    "\n",
    "ax.set_xlabel('Edad')\n",
    "ax.set_ylabel('Puntuación')\n",
    "ax.set_zlabel('Suma Acumulativa')\n",
    "\n",
    "plt.show()\n"
   ]
  },
  {
   "cell_type": "markdown",
   "id": "dfa2841b",
   "metadata": {},
   "source": [
    "#### Ejemplo 6: Gráfico de Barras Agrupadas\n",
    "Incrementamos el conocimiento en Matplot revisando múltiples alternativas"
   ]
  },
  {
   "cell_type": "code",
   "execution_count": 23,
   "id": "ce5e3ff4",
   "metadata": {},
   "outputs": [
    {
     "data": {
      "image/png": "[encoded data removed]",
      "text/plain": [
       "<Figure size 640x480 with 1 Axes>"
      ]
     },
     "metadata": {},
     "output_type": "display_data"
    }
   ],
   "source": [
    "import numpy as np\n",
    "import matplotlib.pyplot as plt\n",
    "\n",
    "ind = np.arange(len(nombres))\n",
    "ancho_barra = 0.35\n",
    "\n",
    "puntuaciones_2 = [85, 88, 92, 78, 95]\n",
    "plt.bar(ind, puntuaciones, ancho_barra, label='Puntuaciones 1')\n",
    "plt.bar(ind + ancho_barra, puntuaciones_2, ancho_barra, label='Puntuaciones 2')\n",
    "\n",
    "plt.xlabel('Nombres')\n",
    "plt.ylabel('Puntuación')\n",
    "plt.title('Comparación de Puntuaciones')\n",
    "plt.xticks(ind + ancho_barra / 2, nombres)\n",
    "plt.legend()\n",
    "plt.show()"
   ]
  },
  {
   "cell_type": "markdown",
   "id": "8f50e1a1",
   "metadata": {},
   "source": [
    "# Taller del ciclo\n",
    "\n",
    "**Planteamiento del Ejercicio: Simulación de Tienda en Línea**\n",
    "\n",
    "**Contexto:**\n",
    "Imagina que estás construyendo una aplicación para una tienda en línea que vende productos electrónicos. Para mejorar la experiencia del usuario, necesitas simular datos de ventas y realizar análisis básicos para tomar decisiones informadas sobre la gestión de inventario y las estrategias de ventas.\n",
    "\n",
    "**Requerimientos:**\n",
    "\n",
    "1. **Generación de Datos:**\n",
    "   - Generar datos simulados para las ventas de productos electrónicos durante un cierto período de tiempo (por ejemplo, un mes). Cada entrada debe incluir información sobre el producto vendido, el precio, la cantidad vendida y la fecha de venta.\n",
    "\n",
    "2. **Análisis de Ventas:**\n",
    "   - Calcular y mostrar estadísticas básicas de ventas, como la suma total de ventas, el producto más vendido, el promedio de ventas diarias, etc.\n",
    "\n",
    "3. **Visualizaciones:**\n",
    "   - Utilizar Matplotlib y Seaborn para crear visualizaciones de los datos. Por ejemplo, un gráfico de barras que muestre las ventas diarias, un gráfico de pastel que muestre las categorías de productos más vendidas, etc.\n",
    "\n",
    "4. **Manejo de Excepciones:**\n",
    "   - Implementar manejo de excepciones para manejar posibles errores al generar o procesar los datos simulados.\n",
    "\n",
    "5. **Programación Orientada a Objetos:**\n",
    "   - Crear una clase llamada `SimuladorVentas` que tenga métodos para generar datos, realizar análisis y generar visualizaciones.\n",
    "   - Instanciar un objeto de esta clase y utilizar sus métodos para realizar todas las operaciones anteriores.\n",
    "\n",
    "**Nota:**\n",
    "- Para la generación de datos, puedes utilizar funciones aleatorias de Python para simular ventas.\n",
    "- Asegúrate de que las visualizaciones sean claras y proporcionen información útil para la gestión de la tienda en línea.\n",
    "- La programación orientada a objetos puede ayudar a estructurar el código y hacerlo más reutilizable y fácil de entender."
   ]
  },
  {
   "cell_type": "markdown",
   "id": "a09d81fa",
   "metadata": {},
   "source": [
    "### CICLO 3 - ASPECTOS AVANZADOS\n",
    "\n",
    "En la última etapa exploramos el contexto más avanzado con modelos y características propias del proceso analítico, aunque fue muy general se plantean algunos ejemplos para referenciación."
   ]
  },
  {
   "cell_type": "markdown",
   "id": "b5b49459",
   "metadata": {},
   "source": [
    "#### Ejemplo 1: Aplicación de K-Means\n",
    "\n",
    "KMeans es una técnica de agrupamiento común en múltiples escenarios, en Python podemos realizar dicho de manera sencilla usando librerías como numpy y sklearn, el ejemplo a continuación usa datos genéricos aleatorios para demostrar el concepto de implementación."
   ]
  },
  {
   "cell_type": "code",
   "execution_count": 77,
   "id": "475eb6cc",
   "metadata": {},
   "outputs": [
    {
     "name": "stdout",
     "output_type": "stream",
     "text": [
      "Etiquetas de Cluster: [2 2 1 1 2 2 2 0 1 2 2 1 1 1 0 1 1 1 2 2 1 0 2 0 0 2 0 0 0 0 0 0 1 0 0 2 2\n",
      " 0 0 0 1 1 0 0 2 1 1 0 0 0 0 2 1 2 1 1 0 2 2 2 2 2 1 1 0 2 1 2 2 2 2 1 2 1\n",
      " 2 1 1 1 2 0 2 2 2 1 0 0 0 0 1 0 1 0 2 2 0 0 1 2 0 1]\n",
      "Centroides: [[0.53079199 0.16305589]\n",
      " [0.22477318 0.67757842]\n",
      " [0.75377377 0.63262143]]\n"
     ]
    },
    {
     "name": "stderr",
     "output_type": "stream",
     "text": [
      "C:\\ProgramData\\anaconda3\\Lib\\site-packages\\sklearn\\cluster\\_kmeans.py:1436: UserWarning: KMeans is known to have a memory leak on Windows with MKL, when there are less chunks than available threads. You can avoid it by setting the environment variable OMP_NUM_THREADS=1.\n",
      "  warnings.warn(\n"
     ]
    }
   ],
   "source": [
    "from sklearn.cluster import KMeans\n",
    "import numpy as np\n",
    "\n",
    "# Generar datos de muestra\n",
    "np.random.seed(0)\n",
    "X = np.random.rand(100, 2)\n",
    "\n",
    "# Definir el modelo K-Means con 3 clusters\n",
    "kmeans = KMeans(n_clusters=3, n_init=\"auto\")\n",
    "kmeans.fit(X)\n",
    "\n",
    "# Obtener las etiquetas de cluster y los centroides\n",
    "labels = kmeans.labels_\n",
    "centroids = kmeans.cluster_centers_\n",
    "\n",
    "print(\"Etiquetas de Cluster:\", labels)\n",
    "print(\"Centroides:\", centroids)"
   ]
  },
  {
   "cell_type": "markdown",
   "id": "fb1cc506",
   "metadata": {},
   "source": [
    "#### Ejemplo Aplicado Simple"
   ]
  },
  {
   "cell_type": "code",
   "execution_count": 78,
   "id": "27b6ca2f",
   "metadata": {},
   "outputs": [
    {
     "name": "stdout",
     "output_type": "stream",
     "text": [
      "Etiquetas de Cluster:\n",
      "[1 0 0 2 0 1 2 0 1 0]\n",
      "Centroides:\n",
      "[[1000.    10. ]\n",
      " [ 600.     6. ]\n",
      " [ 250.     2.5]]\n",
      "Clientes en el Cluster 0:\n",
      "      Nombre                  Email  MontoTotal  Frecuencia  Cluster\n",
      "1   Cliente2   cliente2@example.com        1200          12        0\n",
      "2   Cliente3   cliente3@example.com         800           8        0\n",
      "4   Cliente5   cliente5@example.com        1000          10        0\n",
      "7   Cliente8   cliente8@example.com         900           9        0\n",
      "9  Cliente10  cliente10@example.com        1100          11        0\n",
      "Clientes en el Cluster 1:\n",
      "     Nombre                 Email  MontoTotal  Frecuencia  Cluster\n",
      "0  Cliente1  cliente1@example.com         500           5        1\n",
      "5  Cliente6  cliente6@example.com         700           7        1\n",
      "8  Cliente9  cliente9@example.com         600           6        1\n",
      "Clientes en el Cluster 2:\n",
      "     Nombre                 Email  MontoTotal  Frecuencia  Cluster\n",
      "3  Cliente4  cliente4@example.com         300           3        2\n",
      "6  Cliente7  cliente7@example.com         200           2        2\n"
     ]
    },
    {
     "name": "stderr",
     "output_type": "stream",
     "text": [
      "C:\\ProgramData\\anaconda3\\Lib\\site-packages\\sklearn\\cluster\\_kmeans.py:1436: UserWarning: KMeans is known to have a memory leak on Windows with MKL, when there are less chunks than available threads. You can avoid it by setting the environment variable OMP_NUM_THREADS=1.\n",
      "  warnings.warn(\n"
     ]
    }
   ],
   "source": [
    "import pandas as pd\n",
    "from sklearn.cluster import KMeans\n",
    "import numpy as np\n",
    "\n",
    "# Cargar datos de clientes desde un archivo CSV (por ejemplo, clientes.csv)\n",
    "clientes_data = pd.read_csv('clientes.csv')\n",
    "\n",
    "# Seleccionar características relevantes para el clustering (por ejemplo, monto total de la compra y frecuencia de compra)\n",
    "X = clientes_data[['MontoTotal', 'Frecuencia']]\n",
    "\n",
    "# Definir el modelo K-Means con 3 clusters\n",
    "kmeans = KMeans(n_clusters=3, n_init=\"auto\")\n",
    "kmeans.fit(X)\n",
    "\n",
    "# Obtener las etiquetas de cluster y los centroides\n",
    "labels = kmeans.labels_\n",
    "centroids = kmeans.cluster_centers_\n",
    "\n",
    "# Agregar las etiquetas de cluster al DataFrame original\n",
    "clientes_data['Cluster'] = labels\n",
    "\n",
    "# Mostrar las etiquetas de cluster asignadas a cada cliente\n",
    "print(\"Etiquetas de Cluster:\")\n",
    "print(labels)\n",
    "\n",
    "# Mostrar los centroides de los clusters\n",
    "print(\"Centroides:\")\n",
    "print(centroids)\n",
    "\n",
    "# Mostrar los clientes en cada cluster\n",
    "for cluster_num in range(3):\n",
    "    print(f\"Clientes en el Cluster {cluster_num}:\")\n",
    "    print(clientes_data[clientes_data['Cluster'] == cluster_num])\n"
   ]
  },
  {
   "cell_type": "markdown",
   "id": "56d24a38",
   "metadata": {},
   "source": [
    "#### Visualización usando matplotlib"
   ]
  },
  {
   "cell_type": "code",
   "execution_count": 79,
   "id": "69e66c66",
   "metadata": {},
   "outputs": [
    {
     "name": "stderr",
     "output_type": "stream",
     "text": [
      "C:\\ProgramData\\anaconda3\\Lib\\site-packages\\sklearn\\cluster\\_kmeans.py:1436: UserWarning: KMeans is known to have a memory leak on Windows with MKL, when there are less chunks than available threads. You can avoid it by setting the environment variable OMP_NUM_THREADS=1.\n",
      "  warnings.warn(\n"
     ]
    },
    {
     "data": {
      "image/png": "[encoded data removed]",
      "text/plain": [
       "<Figure size 800x600 with 1 Axes>"
      ]
     },
     "metadata": {},
     "output_type": "display_data"
    }
   ],
   "source": [
    "import pandas as pd\n",
    "from sklearn.cluster import KMeans\n",
    "import matplotlib.pyplot as plt\n",
    "\n",
    "# Cargar datos de clientes desde el archivo CSV\n",
    "clientes_data = pd.read_csv('clientes.csv')\n",
    "\n",
    "# Seleccionar características relevantes para el clustering\n",
    "X = clientes_data[['MontoTotal', 'Frecuencia']]\n",
    "\n",
    "# Definir el modelo K-Means con 3 clusters\n",
    "kmeans = KMeans(n_clusters=3,n_init = \"auto\")\n",
    "kmeans.fit(X)\n",
    "\n",
    "# Obtener las etiquetas de cluster asignadas a cada cliente\n",
    "labels = kmeans.labels_\n",
    "\n",
    "# Agregar las etiquetas de cluster al DataFrame original\n",
    "clientes_data['Cluster'] = labels\n",
    "\n",
    "# Crear un diagrama de dispersión\n",
    "plt.figure(figsize=(8, 6))\n",
    "for cluster_num in range(3):\n",
    "    cluster_data = clientes_data[clientes_data['Cluster'] == cluster_num]\n",
    "    plt.scatter(cluster_data['MontoTotal'], cluster_data['Frecuencia'], label=f'Cluster {cluster_num}')\n",
    "\n",
    "plt.scatter(kmeans.cluster_centers_[:, 0], kmeans.cluster_centers_[:, 1], s=200, c='red', marker='X', label='Centroides')\n",
    "plt.xlabel('Monto Total de Compra')\n",
    "plt.ylabel('Frecuencia de Compra')\n",
    "plt.title('Clustering de Clientes')\n",
    "plt.legend()\n",
    "plt.show()\n"
   ]
  },
  {
   "cell_type": "markdown",
   "id": "b9de0d78",
   "metadata": {},
   "source": [
    "#### Visualización usando Seaborn"
   ]
  },
  {
   "cell_type": "code",
   "execution_count": 80,
   "id": "a31851ae",
   "metadata": {},
   "outputs": [
    {
     "data": {
      "image/png": "[encoded data removed]",
      "text/plain": [
       "<Figure size 800x600 with 1 Axes>"
      ]
     },
     "metadata": {},
     "output_type": "display_data"
    }
   ],
   "source": [
    "import seaborn as sns\n",
    "\n",
    "# Crear un diagrama de dispersión con Seaborn\n",
    "plt.figure(figsize=(8, 6))\n",
    "sns.scatterplot(x='MontoTotal', y='Frecuencia', hue='Cluster', data=clientes_data, palette='Set1', s=100, alpha=0.8)\n",
    "plt.scatter(kmeans.cluster_centers_[:, 0], kmeans.cluster_centers_[:, 1], s=200, c='red', marker='X', label='Centroides')\n",
    "plt.xlabel('Monto Total de Compra')\n",
    "plt.ylabel('Frecuencia de Compra')\n",
    "plt.title('Clustering de Clientes')\n",
    "plt.legend()\n",
    "plt.show()\n"
   ]
  },
  {
   "cell_type": "markdown",
   "id": "5dc5e397",
   "metadata": {},
   "source": [
    "# Taller del ciclo\n",
    "\n",
    "**Taller Avanzado: Análisis y Visualización de Datos en una Tienda en Línea de Productos Electrónicos**\n",
    "\n",
    "**Contexto:**\n",
    "Imagina que eres el analista de datos de una tienda en línea que vende productos electrónicos. Tu tarea es simular datos de ventas, realizar análisis avanzados utilizando técnicas de clusterización y regresiones lineales, y crear visualizaciones detalladas para ayudar en la toma de decisiones.\n",
    "\n",
    "**Requerimientos:**\n",
    "\n",
    "**1. Generación de Datos:**\n",
    "\n",
    "   - Genera datos simulados para las ventas de productos electrónicos durante un período específico (por ejemplo, un mes). Cada entrada debe incluir información sobre el producto vendido, el precio, la cantidad vendida, la fecha de venta y la ubicación geográfica de la compra.\n",
    "\n",
    "**2. Clusterización usando KMeans:**\n",
    "\n",
    "   - Utiliza el algoritmo KMeans para clusterizar los datos de ventas en grupos basados en patrones de compra. Encuentra el número óptimo de clusters utilizando métodos como el método del codo (Elbow Method) o el índice de silueta (Silhouette Score).\n",
    "\n",
    "**3. Regresiones Lineales:**\n",
    "\n",
    "   - Implementa regresiones lineales para predecir las ventas futuras en función de factores como el precio, la cantidad vendida previamente, y otras variables relevantes.\n",
    "\n",
    "**4. Análisis y Visualizaciones:**\n",
    "\n",
    "   - Realiza un análisis detallado de los clusters identificados, identificando características clave de cada grupo de clientes.\n",
    "   - Crea visualizaciones avanzadas, como diagramas de dispersión tridimensionales para las regresiones lineales y gráficos de barras agrupadas para comparar las ventas reales y predichas.\n",
    "   - Utiliza gráficos de mapas para visualizar las ubicaciones geográficas de las ventas y su relación con los clusters identificados.\n",
    "\n",
    "**5. Manejo de Excepciones y Programación Orientada a Objetos:**\n",
    "\n",
    "   - Implementa manejo de excepciones en caso de datos incorrectos o problemas durante el análisis.\n",
    "   - Organiza el código en una estructura de programación orientada a objetos, donde tengas clases para la generación de datos, la clusterización, las regresiones lineales y las visualizaciones.\n",
    "\n",
    "**Nota:**\n",
    "- Utiliza bibliotecas como `scikit-learn`, `matplotlib`, y `seaborn` para las operaciones de clusterización, regresiones lineales y visualizaciones respectivamente.\n",
    "- Los datos generados deben ser realistas y coherentes para realizar un análisis significativo.\n",
    "- La presentación visual de los resultados es fundamental para este taller. Asegúrate de que las visualizaciones sean claras y proporcionen una comprensión profunda de los patrones de compra y las predicciones de ventas.\n",
    "- La programación orientada a objetos puede ayudar a organizar tu código y hacerlo más modular y fácil de entender. Crea clases para las diferentes partes del análisis y la visualización."
   ]
  },
  {
   "cell_type": "markdown",
   "id": "99f64dc2",
   "metadata": {},
   "source": [
    "### CICLO 4 - ASPECTOS APLICADOS\n",
    "\n",
    "Veamos un par de técnicas más aplicadas dentro del contexto del uso de python y sus librerías."
   ]
  },
  {
   "cell_type": "markdown",
   "id": "516c7f81",
   "metadata": {},
   "source": [
    "#### Ejemplo - Sistema de recomendación basado en contenido\n",
    "\n",
    "Los sistemas de recomendación basados en contenidos usan las características básicas para establecer niveles de similitud entre 2 o más items y poder relacionarlos entre sí para ofrecer recomendaciones a usuarios."
   ]
  },
  {
   "cell_type": "markdown",
   "id": "46258888",
   "metadata": {},
   "source": [
    "#### Paso 1\n",
    "\n",
    "Se realiza la carga del archivo del contenido que se desea recomendar, cada ite ocupando un único vector"
   ]
  },
  {
   "cell_type": "code",
   "execution_count": 81,
   "id": "cfa049a1",
   "metadata": {},
   "outputs": [
    {
     "name": "stdout",
     "output_type": "stream",
     "text": [
      "Datos de Películas Cargados Exitosamente.\n"
     ]
    },
    {
     "data": {
      "text/html": [
       "<div>\n",
       "<style scoped>\n",
       "    .dataframe tbody tr th:only-of-type {\n",
       "        vertical-align: middle;\n",
       "    }\n",
       "\n",
       "    .dataframe tbody tr th {\n",
       "        vertical-align: top;\n",
       "    }\n",
       "\n",
       "    .dataframe thead th {\n",
       "        text-align: right;\n",
       "    }\n",
       "</style>\n",
       "<table border=\"1\" class=\"dataframe\">\n",
       "  <thead>\n",
       "    <tr style=\"text-align: right;\">\n",
       "      <th></th>\n",
       "      <th>id</th>\n",
       "      <th>title</th>\n",
       "      <th>overview</th>\n",
       "    </tr>\n",
       "  </thead>\n",
       "  <tbody>\n",
       "    <tr>\n",
       "      <th>0</th>\n",
       "      <td>1</td>\n",
       "      <td>The Dark Knight Rises</td>\n",
       "      <td>Eight years after the Joker's reign of anarchy...</td>\n",
       "    </tr>\n",
       "    <tr>\n",
       "      <th>1</th>\n",
       "      <td>2</td>\n",
       "      <td>Inception</td>\n",
       "      <td>A thief who steals corporate secrets through t...</td>\n",
       "    </tr>\n",
       "    <tr>\n",
       "      <th>2</th>\n",
       "      <td>3</td>\n",
       "      <td>Interstellar</td>\n",
       "      <td>A team of explorers travel through a wormhole ...</td>\n",
       "    </tr>\n",
       "    <tr>\n",
       "      <th>3</th>\n",
       "      <td>4</td>\n",
       "      <td>Pulp Fiction</td>\n",
       "      <td>The lives of two mob hitmen, a boxer, a gangst...</td>\n",
       "    </tr>\n",
       "    <tr>\n",
       "      <th>4</th>\n",
       "      <td>5</td>\n",
       "      <td>The Shawshank Redemption</td>\n",
       "      <td>Two imprisoned men bond over a number of years...</td>\n",
       "    </tr>\n",
       "  </tbody>\n",
       "</table>\n",
       "</div>"
      ],
      "text/plain": [
       "   id                     title  \\\n",
       "0   1     The Dark Knight Rises   \n",
       "1   2                 Inception   \n",
       "2   3              Interstellar   \n",
       "3   4              Pulp Fiction   \n",
       "4   5  The Shawshank Redemption   \n",
       "\n",
       "                                            overview  \n",
       "0  Eight years after the Joker's reign of anarchy...  \n",
       "1  A thief who steals corporate secrets through t...  \n",
       "2  A team of explorers travel through a wormhole ...  \n",
       "3  The lives of two mob hitmen, a boxer, a gangst...  \n",
       "4  Two imprisoned men bond over a number of years...  "
      ]
     },
     "execution_count": 81,
     "metadata": {},
     "output_type": "execute_result"
    }
   ],
   "source": [
    "import pandas as pd\n",
    "\n",
    "# Cargar el conjunto de datos de películas\n",
    "movies_data = pd.read_csv('Movies.csv')\n",
    "print(\"Datos de Películas Cargados Exitosamente.\")\n",
    "\n",
    "# Visualizar las primeras filas del DataFrame\n",
    "movies_data.head()\n"
   ]
  },
  {
   "cell_type": "markdown",
   "id": "b619a44b",
   "metadata": {},
   "source": [
    "#### Paso 2\n",
    "\n",
    "Se realiza la tokenización para convertir en vector las cadenas de la sinopsis descriptiva de la película."
   ]
  },
  {
   "cell_type": "code",
   "execution_count": 85,
   "id": "c7dd56ff",
   "metadata": {},
   "outputs": [
    {
     "name": "stdout",
     "output_type": "stream",
     "text": [
      "Matriz TF-IDF creada exitosamente.\n"
     ]
    }
   ],
   "source": [
    "from sklearn.feature_extraction.text import TfidfVectorizer\n",
    "\n",
    "# Procesar las descripciones de las películas usando TF-IDF Vectorizer\n",
    "tfidf_vectorizer = TfidfVectorizer(stop_words='english')\n",
    "tfidf_matrix = tfidf_vectorizer.fit_transform(movies_data['overview'].fillna(''))\n",
    "\n",
    "print(\"Matriz TF-IDF creada exitosamente.\")\n"
   ]
  },
  {
   "cell_type": "markdown",
   "id": "f07f5269",
   "metadata": {},
   "source": [
    "#### Paso 3\n",
    "\n",
    "Se realiza el cálculo por similitud coseno en una matríz simétrica calculada"
   ]
  },
  {
   "cell_type": "code",
   "execution_count": 86,
   "id": "ae7a37d3",
   "metadata": {},
   "outputs": [
    {
     "name": "stdout",
     "output_type": "stream",
     "text": [
      "Similitud de Coseno Calculada Exitosamente.\n"
     ]
    }
   ],
   "source": [
    "from sklearn.metrics.pairwise import cosine_similarity\n",
    "\n",
    "# Calcular la similitud de coseno entre las películas\n",
    "cosine_sim = cosine_similarity(tfidf_matrix, tfidf_matrix)\n",
    "\n",
    "print(\"Similitud de Coseno Calculada Exitosamente.\")\n"
   ]
  },
  {
   "cell_type": "markdown",
   "id": "a767a963",
   "metadata": {},
   "source": [
    "#### Paso 4\n",
    "\n",
    "A partir de la similitud coseno calculada se procede a crear una función para las recomendaciones correspondientes"
   ]
  },
  {
   "cell_type": "code",
   "execution_count": 87,
   "id": "4bc97091",
   "metadata": {},
   "outputs": [],
   "source": [
    "# Crear una función para obtener recomendaciones basadas en contenido\n",
    "def obtener_recomendaciones(titulo, cosine_sim=cosine_sim):\n",
    "    idx = movies_data[movies_data['title'] == titulo].index[0]\n",
    "    sim_scores = list(enumerate(cosine_sim[idx]))\n",
    "    sim_scores = sorted(sim_scores, key=lambda x: x[1], reverse=True)\n",
    "    sim_scores = sim_scores[1:11]  # Obtener las 10 películas más similares\n",
    "    \n",
    "    movie_indices = [i[0] for i in sim_scores]\n",
    "    return movies_data['title'].iloc[movie_indices]"
   ]
  },
  {
   "cell_type": "markdown",
   "id": "5c2023e1",
   "metadata": {},
   "source": [
    "#### Paso 5\n",
    "\n",
    "Se invoca la función con los datos correspondientes al nombre de la película o item que se desea exponer sus recomendaciones."
   ]
  },
  {
   "cell_type": "code",
   "execution_count": 88,
   "id": "eed0a7a6",
   "metadata": {
    "scrolled": true
   },
   "outputs": [
    {
     "name": "stdout",
     "output_type": "stream",
     "text": [
      "Recomendaciones para la película 'The Dark Knight Rises':\n",
      "4    The Shawshank Redemption\n",
      "1                   Inception\n",
      "2                Interstellar\n",
      "3                Pulp Fiction\n",
      "5               The Godfather\n",
      "6            Schindler's List\n",
      "7                Forrest Gump\n",
      "8                  The Matrix\n",
      "9                  Fight Club\n",
      "Name: title, dtype: object\n"
     ]
    }
   ],
   "source": [
    "# Obtener recomendaciones para una película específica\n",
    "print(\"Recomendaciones para la película 'The Dark Knight Rises':\")\n",
    "print(obtener_recomendaciones('The Dark Knight Rises'))"
   ]
  },
  {
   "cell_type": "markdown",
   "id": "5f72bea4",
   "metadata": {},
   "source": [
    "#### Ejemplo - Sistema de recomendación basado reglas de asociación\n",
    "\n",
    "Las reglas de asociación se basan en el hallazgo de conjuntos de repetición común para esto se usan algotimos como apriori, para la generación de las posibles combinaciones y sus frecuencias relativas."
   ]
  },
  {
   "cell_type": "code",
   "execution_count": 89,
   "id": "5e6896b6",
   "metadata": {},
   "outputs": [],
   "source": [
    "from mlxtend.frequent_patterns import apriori\n",
    "from mlxtend.frequent_patterns import association_rules\n",
    "import pandas as pd\n",
    "\n",
    "# Ejemplo 3: Detección de Reglas de Asociación con Apriori\n",
    "# Crear un DataFrame de ejemplo para transacciones de compras\n",
    "data = {\n",
    "    'Compras': ['pan, leche, huevos',\n",
    "                'pan, pañuelos, leche, cerveza',\n",
    "                'pan, leche, huevos, pañuelos',\n",
    "                'pan, leche, cerveza',\n",
    "                'pan, leche, huevos, pañuelos, cerveza']\n",
    "}\n",
    "\n",
    "df = pd.DataFrame(data)"
   ]
  },
  {
   "cell_type": "code",
   "execution_count": 90,
   "id": "9ab5597f",
   "metadata": {},
   "outputs": [],
   "source": [
    "# Convertir la columna de compras en valores binarios para cada artículo\n",
    "basket_sets = df['Compras'].str.get_dummies(sep=', ')"
   ]
  },
  {
   "cell_type": "code",
   "execution_count": 91,
   "id": "304874a0",
   "metadata": {},
   "outputs": [
    {
     "name": "stderr",
     "output_type": "stream",
     "text": [
      "C:\\ProgramData\\anaconda3\\Lib\\site-packages\\mlxtend\\frequent_patterns\\fpcommon.py:110: DeprecationWarning: DataFrames with non-bool types result in worse computationalperformance and their support might be discontinued in the future.Please use a DataFrame with bool type\n",
      "  warnings.warn(\n"
     ]
    }
   ],
   "source": [
    "# Obtener conjuntos de elementos frecuentes usando Apriori\n",
    "frequent_itemsets = apriori(basket_sets, min_support=0.2, use_colnames=True)"
   ]
  },
  {
   "cell_type": "code",
   "execution_count": 76,
   "id": "38af7002",
   "metadata": {},
   "outputs": [
    {
     "data": {
      "text/html": [
       "<div>\n",
       "<style scoped>\n",
       "    .dataframe tbody tr th:only-of-type {\n",
       "        vertical-align: middle;\n",
       "    }\n",
       "\n",
       "    .dataframe tbody tr th {\n",
       "        vertical-align: top;\n",
       "    }\n",
       "\n",
       "    .dataframe thead th {\n",
       "        text-align: right;\n",
       "    }\n",
       "</style>\n",
       "<table border=\"1\" class=\"dataframe\">\n",
       "  <thead>\n",
       "    <tr style=\"text-align: right;\">\n",
       "      <th></th>\n",
       "      <th>antecedents</th>\n",
       "      <th>consequents</th>\n",
       "      <th>antecedent support</th>\n",
       "      <th>consequent support</th>\n",
       "      <th>support</th>\n",
       "      <th>confidence</th>\n",
       "      <th>lift</th>\n",
       "      <th>leverage</th>\n",
       "      <th>conviction</th>\n",
       "      <th>zhangs_metric</th>\n",
       "    </tr>\n",
       "  </thead>\n",
       "  <tbody>\n",
       "    <tr>\n",
       "      <th>0</th>\n",
       "      <td>(cerveza)</td>\n",
       "      <td>(leche)</td>\n",
       "      <td>0.6</td>\n",
       "      <td>1.0</td>\n",
       "      <td>0.6</td>\n",
       "      <td>1.0</td>\n",
       "      <td>1.000000</td>\n",
       "      <td>0.00</td>\n",
       "      <td>inf</td>\n",
       "      <td>0.0</td>\n",
       "    </tr>\n",
       "    <tr>\n",
       "      <th>1</th>\n",
       "      <td>(cerveza)</td>\n",
       "      <td>(pan)</td>\n",
       "      <td>0.6</td>\n",
       "      <td>1.0</td>\n",
       "      <td>0.6</td>\n",
       "      <td>1.0</td>\n",
       "      <td>1.000000</td>\n",
       "      <td>0.00</td>\n",
       "      <td>inf</td>\n",
       "      <td>0.0</td>\n",
       "    </tr>\n",
       "    <tr>\n",
       "      <th>2</th>\n",
       "      <td>(huevos)</td>\n",
       "      <td>(leche)</td>\n",
       "      <td>0.6</td>\n",
       "      <td>1.0</td>\n",
       "      <td>0.6</td>\n",
       "      <td>1.0</td>\n",
       "      <td>1.000000</td>\n",
       "      <td>0.00</td>\n",
       "      <td>inf</td>\n",
       "      <td>0.0</td>\n",
       "    </tr>\n",
       "    <tr>\n",
       "      <th>3</th>\n",
       "      <td>(huevos)</td>\n",
       "      <td>(pan)</td>\n",
       "      <td>0.6</td>\n",
       "      <td>1.0</td>\n",
       "      <td>0.6</td>\n",
       "      <td>1.0</td>\n",
       "      <td>1.000000</td>\n",
       "      <td>0.00</td>\n",
       "      <td>inf</td>\n",
       "      <td>0.0</td>\n",
       "    </tr>\n",
       "    <tr>\n",
       "      <th>4</th>\n",
       "      <td>(pan)</td>\n",
       "      <td>(leche)</td>\n",
       "      <td>1.0</td>\n",
       "      <td>1.0</td>\n",
       "      <td>1.0</td>\n",
       "      <td>1.0</td>\n",
       "      <td>1.000000</td>\n",
       "      <td>0.00</td>\n",
       "      <td>inf</td>\n",
       "      <td>0.0</td>\n",
       "    </tr>\n",
       "    <tr>\n",
       "      <th>5</th>\n",
       "      <td>(leche)</td>\n",
       "      <td>(pan)</td>\n",
       "      <td>1.0</td>\n",
       "      <td>1.0</td>\n",
       "      <td>1.0</td>\n",
       "      <td>1.0</td>\n",
       "      <td>1.000000</td>\n",
       "      <td>0.00</td>\n",
       "      <td>inf</td>\n",
       "      <td>0.0</td>\n",
       "    </tr>\n",
       "    <tr>\n",
       "      <th>6</th>\n",
       "      <td>(pañuelos)</td>\n",
       "      <td>(leche)</td>\n",
       "      <td>0.6</td>\n",
       "      <td>1.0</td>\n",
       "      <td>0.6</td>\n",
       "      <td>1.0</td>\n",
       "      <td>1.000000</td>\n",
       "      <td>0.00</td>\n",
       "      <td>inf</td>\n",
       "      <td>0.0</td>\n",
       "    </tr>\n",
       "    <tr>\n",
       "      <th>7</th>\n",
       "      <td>(pañuelos)</td>\n",
       "      <td>(pan)</td>\n",
       "      <td>0.6</td>\n",
       "      <td>1.0</td>\n",
       "      <td>0.6</td>\n",
       "      <td>1.0</td>\n",
       "      <td>1.000000</td>\n",
       "      <td>0.00</td>\n",
       "      <td>inf</td>\n",
       "      <td>0.0</td>\n",
       "    </tr>\n",
       "    <tr>\n",
       "      <th>8</th>\n",
       "      <td>(huevos, cerveza)</td>\n",
       "      <td>(leche)</td>\n",
       "      <td>0.2</td>\n",
       "      <td>1.0</td>\n",
       "      <td>0.2</td>\n",
       "      <td>1.0</td>\n",
       "      <td>1.000000</td>\n",
       "      <td>0.00</td>\n",
       "      <td>inf</td>\n",
       "      <td>0.0</td>\n",
       "    </tr>\n",
       "    <tr>\n",
       "      <th>9</th>\n",
       "      <td>(huevos, cerveza)</td>\n",
       "      <td>(pan)</td>\n",
       "      <td>0.2</td>\n",
       "      <td>1.0</td>\n",
       "      <td>0.2</td>\n",
       "      <td>1.0</td>\n",
       "      <td>1.000000</td>\n",
       "      <td>0.00</td>\n",
       "      <td>inf</td>\n",
       "      <td>0.0</td>\n",
       "    </tr>\n",
       "    <tr>\n",
       "      <th>10</th>\n",
       "      <td>(huevos, cerveza)</td>\n",
       "      <td>(pañuelos)</td>\n",
       "      <td>0.2</td>\n",
       "      <td>0.6</td>\n",
       "      <td>0.2</td>\n",
       "      <td>1.0</td>\n",
       "      <td>1.666667</td>\n",
       "      <td>0.08</td>\n",
       "      <td>inf</td>\n",
       "      <td>0.5</td>\n",
       "    </tr>\n",
       "    <tr>\n",
       "      <th>11</th>\n",
       "      <td>(cerveza, pan)</td>\n",
       "      <td>(leche)</td>\n",
       "      <td>0.6</td>\n",
       "      <td>1.0</td>\n",
       "      <td>0.6</td>\n",
       "      <td>1.0</td>\n",
       "      <td>1.000000</td>\n",
       "      <td>0.00</td>\n",
       "      <td>inf</td>\n",
       "      <td>0.0</td>\n",
       "    </tr>\n",
       "    <tr>\n",
       "      <th>12</th>\n",
       "      <td>(cerveza, leche)</td>\n",
       "      <td>(pan)</td>\n",
       "      <td>0.6</td>\n",
       "      <td>1.0</td>\n",
       "      <td>0.6</td>\n",
       "      <td>1.0</td>\n",
       "      <td>1.000000</td>\n",
       "      <td>0.00</td>\n",
       "      <td>inf</td>\n",
       "      <td>0.0</td>\n",
       "    </tr>\n",
       "    <tr>\n",
       "      <th>13</th>\n",
       "      <td>(cerveza)</td>\n",
       "      <td>(leche, pan)</td>\n",
       "      <td>0.6</td>\n",
       "      <td>1.0</td>\n",
       "      <td>0.6</td>\n",
       "      <td>1.0</td>\n",
       "      <td>1.000000</td>\n",
       "      <td>0.00</td>\n",
       "      <td>inf</td>\n",
       "      <td>0.0</td>\n",
       "    </tr>\n",
       "    <tr>\n",
       "      <th>14</th>\n",
       "      <td>(cerveza, pañuelos)</td>\n",
       "      <td>(leche)</td>\n",
       "      <td>0.4</td>\n",
       "      <td>1.0</td>\n",
       "      <td>0.4</td>\n",
       "      <td>1.0</td>\n",
       "      <td>1.000000</td>\n",
       "      <td>0.00</td>\n",
       "      <td>inf</td>\n",
       "      <td>0.0</td>\n",
       "    </tr>\n",
       "    <tr>\n",
       "      <th>15</th>\n",
       "      <td>(cerveza, pañuelos)</td>\n",
       "      <td>(pan)</td>\n",
       "      <td>0.4</td>\n",
       "      <td>1.0</td>\n",
       "      <td>0.4</td>\n",
       "      <td>1.0</td>\n",
       "      <td>1.000000</td>\n",
       "      <td>0.00</td>\n",
       "      <td>inf</td>\n",
       "      <td>0.0</td>\n",
       "    </tr>\n",
       "    <tr>\n",
       "      <th>16</th>\n",
       "      <td>(huevos, pan)</td>\n",
       "      <td>(leche)</td>\n",
       "      <td>0.6</td>\n",
       "      <td>1.0</td>\n",
       "      <td>0.6</td>\n",
       "      <td>1.0</td>\n",
       "      <td>1.000000</td>\n",
       "      <td>0.00</td>\n",
       "      <td>inf</td>\n",
       "      <td>0.0</td>\n",
       "    </tr>\n",
       "    <tr>\n",
       "      <th>17</th>\n",
       "      <td>(huevos, leche)</td>\n",
       "      <td>(pan)</td>\n",
       "      <td>0.6</td>\n",
       "      <td>1.0</td>\n",
       "      <td>0.6</td>\n",
       "      <td>1.0</td>\n",
       "      <td>1.000000</td>\n",
       "      <td>0.00</td>\n",
       "      <td>inf</td>\n",
       "      <td>0.0</td>\n",
       "    </tr>\n",
       "    <tr>\n",
       "      <th>18</th>\n",
       "      <td>(huevos)</td>\n",
       "      <td>(leche, pan)</td>\n",
       "      <td>0.6</td>\n",
       "      <td>1.0</td>\n",
       "      <td>0.6</td>\n",
       "      <td>1.0</td>\n",
       "      <td>1.000000</td>\n",
       "      <td>0.00</td>\n",
       "      <td>inf</td>\n",
       "      <td>0.0</td>\n",
       "    </tr>\n",
       "    <tr>\n",
       "      <th>19</th>\n",
       "      <td>(huevos, pañuelos)</td>\n",
       "      <td>(leche)</td>\n",
       "      <td>0.4</td>\n",
       "      <td>1.0</td>\n",
       "      <td>0.4</td>\n",
       "      <td>1.0</td>\n",
       "      <td>1.000000</td>\n",
       "      <td>0.00</td>\n",
       "      <td>inf</td>\n",
       "      <td>0.0</td>\n",
       "    </tr>\n",
       "    <tr>\n",
       "      <th>20</th>\n",
       "      <td>(huevos, pañuelos)</td>\n",
       "      <td>(pan)</td>\n",
       "      <td>0.4</td>\n",
       "      <td>1.0</td>\n",
       "      <td>0.4</td>\n",
       "      <td>1.0</td>\n",
       "      <td>1.000000</td>\n",
       "      <td>0.00</td>\n",
       "      <td>inf</td>\n",
       "      <td>0.0</td>\n",
       "    </tr>\n",
       "    <tr>\n",
       "      <th>21</th>\n",
       "      <td>(pañuelos, pan)</td>\n",
       "      <td>(leche)</td>\n",
       "      <td>0.6</td>\n",
       "      <td>1.0</td>\n",
       "      <td>0.6</td>\n",
       "      <td>1.0</td>\n",
       "      <td>1.000000</td>\n",
       "      <td>0.00</td>\n",
       "      <td>inf</td>\n",
       "      <td>0.0</td>\n",
       "    </tr>\n",
       "    <tr>\n",
       "      <th>22</th>\n",
       "      <td>(leche, pañuelos)</td>\n",
       "      <td>(pan)</td>\n",
       "      <td>0.6</td>\n",
       "      <td>1.0</td>\n",
       "      <td>0.6</td>\n",
       "      <td>1.0</td>\n",
       "      <td>1.000000</td>\n",
       "      <td>0.00</td>\n",
       "      <td>inf</td>\n",
       "      <td>0.0</td>\n",
       "    </tr>\n",
       "    <tr>\n",
       "      <th>23</th>\n",
       "      <td>(pañuelos)</td>\n",
       "      <td>(leche, pan)</td>\n",
       "      <td>0.6</td>\n",
       "      <td>1.0</td>\n",
       "      <td>0.6</td>\n",
       "      <td>1.0</td>\n",
       "      <td>1.000000</td>\n",
       "      <td>0.00</td>\n",
       "      <td>inf</td>\n",
       "      <td>0.0</td>\n",
       "    </tr>\n",
       "    <tr>\n",
       "      <th>24</th>\n",
       "      <td>(huevos, cerveza, pan)</td>\n",
       "      <td>(leche)</td>\n",
       "      <td>0.2</td>\n",
       "      <td>1.0</td>\n",
       "      <td>0.2</td>\n",
       "      <td>1.0</td>\n",
       "      <td>1.000000</td>\n",
       "      <td>0.00</td>\n",
       "      <td>inf</td>\n",
       "      <td>0.0</td>\n",
       "    </tr>\n",
       "    <tr>\n",
       "      <th>25</th>\n",
       "      <td>(huevos, cerveza, leche)</td>\n",
       "      <td>(pan)</td>\n",
       "      <td>0.2</td>\n",
       "      <td>1.0</td>\n",
       "      <td>0.2</td>\n",
       "      <td>1.0</td>\n",
       "      <td>1.000000</td>\n",
       "      <td>0.00</td>\n",
       "      <td>inf</td>\n",
       "      <td>0.0</td>\n",
       "    </tr>\n",
       "    <tr>\n",
       "      <th>26</th>\n",
       "      <td>(huevos, cerveza)</td>\n",
       "      <td>(leche, pan)</td>\n",
       "      <td>0.2</td>\n",
       "      <td>1.0</td>\n",
       "      <td>0.2</td>\n",
       "      <td>1.0</td>\n",
       "      <td>1.000000</td>\n",
       "      <td>0.00</td>\n",
       "      <td>inf</td>\n",
       "      <td>0.0</td>\n",
       "    </tr>\n",
       "    <tr>\n",
       "      <th>27</th>\n",
       "      <td>(huevos, cerveza, pañuelos)</td>\n",
       "      <td>(leche)</td>\n",
       "      <td>0.2</td>\n",
       "      <td>1.0</td>\n",
       "      <td>0.2</td>\n",
       "      <td>1.0</td>\n",
       "      <td>1.000000</td>\n",
       "      <td>0.00</td>\n",
       "      <td>inf</td>\n",
       "      <td>0.0</td>\n",
       "    </tr>\n",
       "    <tr>\n",
       "      <th>28</th>\n",
       "      <td>(huevos, cerveza, leche)</td>\n",
       "      <td>(pañuelos)</td>\n",
       "      <td>0.2</td>\n",
       "      <td>0.6</td>\n",
       "      <td>0.2</td>\n",
       "      <td>1.0</td>\n",
       "      <td>1.666667</td>\n",
       "      <td>0.08</td>\n",
       "      <td>inf</td>\n",
       "      <td>0.5</td>\n",
       "    </tr>\n",
       "    <tr>\n",
       "      <th>29</th>\n",
       "      <td>(huevos, cerveza)</td>\n",
       "      <td>(leche, pañuelos)</td>\n",
       "      <td>0.2</td>\n",
       "      <td>0.6</td>\n",
       "      <td>0.2</td>\n",
       "      <td>1.0</td>\n",
       "      <td>1.666667</td>\n",
       "      <td>0.08</td>\n",
       "      <td>inf</td>\n",
       "      <td>0.5</td>\n",
       "    </tr>\n",
       "    <tr>\n",
       "      <th>30</th>\n",
       "      <td>(huevos, cerveza, pañuelos)</td>\n",
       "      <td>(pan)</td>\n",
       "      <td>0.2</td>\n",
       "      <td>1.0</td>\n",
       "      <td>0.2</td>\n",
       "      <td>1.0</td>\n",
       "      <td>1.000000</td>\n",
       "      <td>0.00</td>\n",
       "      <td>inf</td>\n",
       "      <td>0.0</td>\n",
       "    </tr>\n",
       "    <tr>\n",
       "      <th>31</th>\n",
       "      <td>(huevos, cerveza, pan)</td>\n",
       "      <td>(pañuelos)</td>\n",
       "      <td>0.2</td>\n",
       "      <td>0.6</td>\n",
       "      <td>0.2</td>\n",
       "      <td>1.0</td>\n",
       "      <td>1.666667</td>\n",
       "      <td>0.08</td>\n",
       "      <td>inf</td>\n",
       "      <td>0.5</td>\n",
       "    </tr>\n",
       "    <tr>\n",
       "      <th>32</th>\n",
       "      <td>(huevos, cerveza)</td>\n",
       "      <td>(pan, pañuelos)</td>\n",
       "      <td>0.2</td>\n",
       "      <td>0.6</td>\n",
       "      <td>0.2</td>\n",
       "      <td>1.0</td>\n",
       "      <td>1.666667</td>\n",
       "      <td>0.08</td>\n",
       "      <td>inf</td>\n",
       "      <td>0.5</td>\n",
       "    </tr>\n",
       "    <tr>\n",
       "      <th>33</th>\n",
       "      <td>(pañuelos, cerveza, pan)</td>\n",
       "      <td>(leche)</td>\n",
       "      <td>0.4</td>\n",
       "      <td>1.0</td>\n",
       "      <td>0.4</td>\n",
       "      <td>1.0</td>\n",
       "      <td>1.000000</td>\n",
       "      <td>0.00</td>\n",
       "      <td>inf</td>\n",
       "      <td>0.0</td>\n",
       "    </tr>\n",
       "    <tr>\n",
       "      <th>34</th>\n",
       "      <td>(leche, cerveza, pañuelos)</td>\n",
       "      <td>(pan)</td>\n",
       "      <td>0.4</td>\n",
       "      <td>1.0</td>\n",
       "      <td>0.4</td>\n",
       "      <td>1.0</td>\n",
       "      <td>1.000000</td>\n",
       "      <td>0.00</td>\n",
       "      <td>inf</td>\n",
       "      <td>0.0</td>\n",
       "    </tr>\n",
       "    <tr>\n",
       "      <th>35</th>\n",
       "      <td>(cerveza, pañuelos)</td>\n",
       "      <td>(leche, pan)</td>\n",
       "      <td>0.4</td>\n",
       "      <td>1.0</td>\n",
       "      <td>0.4</td>\n",
       "      <td>1.0</td>\n",
       "      <td>1.000000</td>\n",
       "      <td>0.00</td>\n",
       "      <td>inf</td>\n",
       "      <td>0.0</td>\n",
       "    </tr>\n",
       "    <tr>\n",
       "      <th>36</th>\n",
       "      <td>(pañuelos, huevos, pan)</td>\n",
       "      <td>(leche)</td>\n",
       "      <td>0.4</td>\n",
       "      <td>1.0</td>\n",
       "      <td>0.4</td>\n",
       "      <td>1.0</td>\n",
       "      <td>1.000000</td>\n",
       "      <td>0.00</td>\n",
       "      <td>inf</td>\n",
       "      <td>0.0</td>\n",
       "    </tr>\n",
       "    <tr>\n",
       "      <th>37</th>\n",
       "      <td>(leche, huevos, pañuelos)</td>\n",
       "      <td>(pan)</td>\n",
       "      <td>0.4</td>\n",
       "      <td>1.0</td>\n",
       "      <td>0.4</td>\n",
       "      <td>1.0</td>\n",
       "      <td>1.000000</td>\n",
       "      <td>0.00</td>\n",
       "      <td>inf</td>\n",
       "      <td>0.0</td>\n",
       "    </tr>\n",
       "    <tr>\n",
       "      <th>38</th>\n",
       "      <td>(huevos, pañuelos)</td>\n",
       "      <td>(leche, pan)</td>\n",
       "      <td>0.4</td>\n",
       "      <td>1.0</td>\n",
       "      <td>0.4</td>\n",
       "      <td>1.0</td>\n",
       "      <td>1.000000</td>\n",
       "      <td>0.00</td>\n",
       "      <td>inf</td>\n",
       "      <td>0.0</td>\n",
       "    </tr>\n",
       "    <tr>\n",
       "      <th>39</th>\n",
       "      <td>(leche, huevos, cerveza, pañuelos)</td>\n",
       "      <td>(pan)</td>\n",
       "      <td>0.2</td>\n",
       "      <td>1.0</td>\n",
       "      <td>0.2</td>\n",
       "      <td>1.0</td>\n",
       "      <td>1.000000</td>\n",
       "      <td>0.00</td>\n",
       "      <td>inf</td>\n",
       "      <td>0.0</td>\n",
       "    </tr>\n",
       "    <tr>\n",
       "      <th>40</th>\n",
       "      <td>(pan, huevos, cerveza, pañuelos)</td>\n",
       "      <td>(leche)</td>\n",
       "      <td>0.2</td>\n",
       "      <td>1.0</td>\n",
       "      <td>0.2</td>\n",
       "      <td>1.0</td>\n",
       "      <td>1.000000</td>\n",
       "      <td>0.00</td>\n",
       "      <td>inf</td>\n",
       "      <td>0.0</td>\n",
       "    </tr>\n",
       "    <tr>\n",
       "      <th>41</th>\n",
       "      <td>(pan, huevos, cerveza, leche)</td>\n",
       "      <td>(pañuelos)</td>\n",
       "      <td>0.2</td>\n",
       "      <td>0.6</td>\n",
       "      <td>0.2</td>\n",
       "      <td>1.0</td>\n",
       "      <td>1.666667</td>\n",
       "      <td>0.08</td>\n",
       "      <td>inf</td>\n",
       "      <td>0.5</td>\n",
       "    </tr>\n",
       "    <tr>\n",
       "      <th>42</th>\n",
       "      <td>(huevos, cerveza, pañuelos)</td>\n",
       "      <td>(pan, leche)</td>\n",
       "      <td>0.2</td>\n",
       "      <td>1.0</td>\n",
       "      <td>0.2</td>\n",
       "      <td>1.0</td>\n",
       "      <td>1.000000</td>\n",
       "      <td>0.00</td>\n",
       "      <td>inf</td>\n",
       "      <td>0.0</td>\n",
       "    </tr>\n",
       "    <tr>\n",
       "      <th>43</th>\n",
       "      <td>(huevos, cerveza, leche)</td>\n",
       "      <td>(pan, pañuelos)</td>\n",
       "      <td>0.2</td>\n",
       "      <td>0.6</td>\n",
       "      <td>0.2</td>\n",
       "      <td>1.0</td>\n",
       "      <td>1.666667</td>\n",
       "      <td>0.08</td>\n",
       "      <td>inf</td>\n",
       "      <td>0.5</td>\n",
       "    </tr>\n",
       "    <tr>\n",
       "      <th>44</th>\n",
       "      <td>(huevos, cerveza, pan)</td>\n",
       "      <td>(leche, pañuelos)</td>\n",
       "      <td>0.2</td>\n",
       "      <td>0.6</td>\n",
       "      <td>0.2</td>\n",
       "      <td>1.0</td>\n",
       "      <td>1.666667</td>\n",
       "      <td>0.08</td>\n",
       "      <td>inf</td>\n",
       "      <td>0.5</td>\n",
       "    </tr>\n",
       "    <tr>\n",
       "      <th>45</th>\n",
       "      <td>(huevos, cerveza)</td>\n",
       "      <td>(pan, leche, pañuelos)</td>\n",
       "      <td>0.2</td>\n",
       "      <td>0.6</td>\n",
       "      <td>0.2</td>\n",
       "      <td>1.0</td>\n",
       "      <td>1.666667</td>\n",
       "      <td>0.08</td>\n",
       "      <td>inf</td>\n",
       "      <td>0.5</td>\n",
       "    </tr>\n",
       "  </tbody>\n",
       "</table>\n",
       "</div>"
      ],
      "text/plain": [
       "                           antecedents             consequents  \\\n",
       "0                            (cerveza)                 (leche)   \n",
       "1                            (cerveza)                   (pan)   \n",
       "2                             (huevos)                 (leche)   \n",
       "3                             (huevos)                   (pan)   \n",
       "4                                (pan)                 (leche)   \n",
       "5                              (leche)                   (pan)   \n",
       "6                           (pañuelos)                 (leche)   \n",
       "7                           (pañuelos)                   (pan)   \n",
       "8                    (huevos, cerveza)                 (leche)   \n",
       "9                    (huevos, cerveza)                   (pan)   \n",
       "10                   (huevos, cerveza)              (pañuelos)   \n",
       "11                      (cerveza, pan)                 (leche)   \n",
       "12                    (cerveza, leche)                   (pan)   \n",
       "13                           (cerveza)            (leche, pan)   \n",
       "14                 (cerveza, pañuelos)                 (leche)   \n",
       "15                 (cerveza, pañuelos)                   (pan)   \n",
       "16                       (huevos, pan)                 (leche)   \n",
       "17                     (huevos, leche)                   (pan)   \n",
       "18                            (huevos)            (leche, pan)   \n",
       "19                  (huevos, pañuelos)                 (leche)   \n",
       "20                  (huevos, pañuelos)                   (pan)   \n",
       "21                     (pañuelos, pan)                 (leche)   \n",
       "22                   (leche, pañuelos)                   (pan)   \n",
       "23                          (pañuelos)            (leche, pan)   \n",
       "24              (huevos, cerveza, pan)                 (leche)   \n",
       "25            (huevos, cerveza, leche)                   (pan)   \n",
       "26                   (huevos, cerveza)            (leche, pan)   \n",
       "27         (huevos, cerveza, pañuelos)                 (leche)   \n",
       "28            (huevos, cerveza, leche)              (pañuelos)   \n",
       "29                   (huevos, cerveza)       (leche, pañuelos)   \n",
       "30         (huevos, cerveza, pañuelos)                   (pan)   \n",
       "31              (huevos, cerveza, pan)              (pañuelos)   \n",
       "32                   (huevos, cerveza)         (pan, pañuelos)   \n",
       "33            (pañuelos, cerveza, pan)                 (leche)   \n",
       "34          (leche, cerveza, pañuelos)                   (pan)   \n",
       "35                 (cerveza, pañuelos)            (leche, pan)   \n",
       "36             (pañuelos, huevos, pan)                 (leche)   \n",
       "37           (leche, huevos, pañuelos)                   (pan)   \n",
       "38                  (huevos, pañuelos)            (leche, pan)   \n",
       "39  (leche, huevos, cerveza, pañuelos)                   (pan)   \n",
       "40    (pan, huevos, cerveza, pañuelos)                 (leche)   \n",
       "41       (pan, huevos, cerveza, leche)              (pañuelos)   \n",
       "42         (huevos, cerveza, pañuelos)            (pan, leche)   \n",
       "43            (huevos, cerveza, leche)         (pan, pañuelos)   \n",
       "44              (huevos, cerveza, pan)       (leche, pañuelos)   \n",
       "45                   (huevos, cerveza)  (pan, leche, pañuelos)   \n",
       "\n",
       "    antecedent support  consequent support  support  confidence      lift  \\\n",
       "0                  0.6                 1.0      0.6         1.0  1.000000   \n",
       "1                  0.6                 1.0      0.6         1.0  1.000000   \n",
       "2                  0.6                 1.0      0.6         1.0  1.000000   \n",
       "3                  0.6                 1.0      0.6         1.0  1.000000   \n",
       "4                  1.0                 1.0      1.0         1.0  1.000000   \n",
       "5                  1.0                 1.0      1.0         1.0  1.000000   \n",
       "6                  0.6                 1.0      0.6         1.0  1.000000   \n",
       "7                  0.6                 1.0      0.6         1.0  1.000000   \n",
       "8                  0.2                 1.0      0.2         1.0  1.000000   \n",
       "9                  0.2                 1.0      0.2         1.0  1.000000   \n",
       "10                 0.2                 0.6      0.2         1.0  1.666667   \n",
       "11                 0.6                 1.0      0.6         1.0  1.000000   \n",
       "12                 0.6                 1.0      0.6         1.0  1.000000   \n",
       "13                 0.6                 1.0      0.6         1.0  1.000000   \n",
       "14                 0.4                 1.0      0.4         1.0  1.000000   \n",
       "15                 0.4                 1.0      0.4         1.0  1.000000   \n",
       "16                 0.6                 1.0      0.6         1.0  1.000000   \n",
       "17                 0.6                 1.0      0.6         1.0  1.000000   \n",
       "18                 0.6                 1.0      0.6         1.0  1.000000   \n",
       "19                 0.4                 1.0      0.4         1.0  1.000000   \n",
       "20                 0.4                 1.0      0.4         1.0  1.000000   \n",
       "21                 0.6                 1.0      0.6         1.0  1.000000   \n",
       "22                 0.6                 1.0      0.6         1.0  1.000000   \n",
       "23                 0.6                 1.0      0.6         1.0  1.000000   \n",
       "24                 0.2                 1.0      0.2         1.0  1.000000   \n",
       "25                 0.2                 1.0      0.2         1.0  1.000000   \n",
       "26                 0.2                 1.0      0.2         1.0  1.000000   \n",
       "27                 0.2                 1.0      0.2         1.0  1.000000   \n",
       "28                 0.2                 0.6      0.2         1.0  1.666667   \n",
       "29                 0.2                 0.6      0.2         1.0  1.666667   \n",
       "30                 0.2                 1.0      0.2         1.0  1.000000   \n",
       "31                 0.2                 0.6      0.2         1.0  1.666667   \n",
       "32                 0.2                 0.6      0.2         1.0  1.666667   \n",
       "33                 0.4                 1.0      0.4         1.0  1.000000   \n",
       "34                 0.4                 1.0      0.4         1.0  1.000000   \n",
       "35                 0.4                 1.0      0.4         1.0  1.000000   \n",
       "36                 0.4                 1.0      0.4         1.0  1.000000   \n",
       "37                 0.4                 1.0      0.4         1.0  1.000000   \n",
       "38                 0.4                 1.0      0.4         1.0  1.000000   \n",
       "39                 0.2                 1.0      0.2         1.0  1.000000   \n",
       "40                 0.2                 1.0      0.2         1.0  1.000000   \n",
       "41                 0.2                 0.6      0.2         1.0  1.666667   \n",
       "42                 0.2                 1.0      0.2         1.0  1.000000   \n",
       "43                 0.2                 0.6      0.2         1.0  1.666667   \n",
       "44                 0.2                 0.6      0.2         1.0  1.666667   \n",
       "45                 0.2                 0.6      0.2         1.0  1.666667   \n",
       "\n",
       "    leverage  conviction  zhangs_metric  \n",
       "0       0.00         inf            0.0  \n",
       "1       0.00         inf            0.0  \n",
       "2       0.00         inf            0.0  \n",
       "3       0.00         inf            0.0  \n",
       "4       0.00         inf            0.0  \n",
       "5       0.00         inf            0.0  \n",
       "6       0.00         inf            0.0  \n",
       "7       0.00         inf            0.0  \n",
       "8       0.00         inf            0.0  \n",
       "9       0.00         inf            0.0  \n",
       "10      0.08         inf            0.5  \n",
       "11      0.00         inf            0.0  \n",
       "12      0.00         inf            0.0  \n",
       "13      0.00         inf            0.0  \n",
       "14      0.00         inf            0.0  \n",
       "15      0.00         inf            0.0  \n",
       "16      0.00         inf            0.0  \n",
       "17      0.00         inf            0.0  \n",
       "18      0.00         inf            0.0  \n",
       "19      0.00         inf            0.0  \n",
       "20      0.00         inf            0.0  \n",
       "21      0.00         inf            0.0  \n",
       "22      0.00         inf            0.0  \n",
       "23      0.00         inf            0.0  \n",
       "24      0.00         inf            0.0  \n",
       "25      0.00         inf            0.0  \n",
       "26      0.00         inf            0.0  \n",
       "27      0.00         inf            0.0  \n",
       "28      0.08         inf            0.5  \n",
       "29      0.08         inf            0.5  \n",
       "30      0.00         inf            0.0  \n",
       "31      0.08         inf            0.5  \n",
       "32      0.08         inf            0.5  \n",
       "33      0.00         inf            0.0  \n",
       "34      0.00         inf            0.0  \n",
       "35      0.00         inf            0.0  \n",
       "36      0.00         inf            0.0  \n",
       "37      0.00         inf            0.0  \n",
       "38      0.00         inf            0.0  \n",
       "39      0.00         inf            0.0  \n",
       "40      0.00         inf            0.0  \n",
       "41      0.08         inf            0.5  \n",
       "42      0.00         inf            0.0  \n",
       "43      0.08         inf            0.5  \n",
       "44      0.08         inf            0.5  \n",
       "45      0.08         inf            0.5  "
      ]
     },
     "execution_count": 76,
     "metadata": {},
     "output_type": "execute_result"
    }
   ],
   "source": [
    "# Obtener reglas de asociación\n",
    "rules = association_rules(frequent_itemsets, metric=\"confidence\", min_threshold=0.7)\n",
    "rules"
   ]
  },
  {
   "cell_type": "markdown",
   "id": "371f9e5f",
   "metadata": {},
   "source": [
    "# Taller de Ciclo\n",
    "\n",
    "**Taller Avanzado: Sistemas de Recomendación y Reglas de Asociación en una Tienda en Línea de Productos Electrónicos**\n",
    "\n",
    "**Contexto:**\n",
    "Eres el científico de datos de una tienda en línea de productos electrónicos y estás encargado de implementar sistemas de recomendación basados en contenido y analizar patrones de compra utilizando reglas de asociación para mejorar las ventas y la experiencia del cliente.\n",
    "\n",
    "**Requerimientos:**\n",
    "\n",
    "**1. Implementación de Sistemas de Recomendación Basados en Contenido:**\n",
    "\n",
    "   - Crea una matriz de características para los productos, utilizando atributos como categoría, precio, marca, y características técnicas.\n",
    "   - Implementa un sistema de recomendación basado en contenido que sugiera productos relacionados a un usuario basándose en los productos que ha comprado o revisado previamente.\n",
    "   - Utiliza técnicas como TF-IDF (Term Frequency-Inverse Document Frequency) para ponderar las características de los productos y calcular similitudes entre productos.\n",
    "\n",
    "**2. Análisis de Reglas de Asociación con Apriori:**\n",
    "\n",
    "   - Genera reglas de asociación usando el algoritmo Apriori para encontrar patrones en las compras de los clientes.\n",
    "   - Encuentra conjuntos de elementos frecuentes y genera reglas de asociación con un umbral mínimo de soporte y confianza.\n",
    "   - Analiza las reglas de asociación para identificar combinaciones de productos que se venden juntos con frecuencia.\n",
    "\n",
    "**3. Evaluación del Sistema de Recomendación:**\n",
    "\n",
    "   - Implementa una métrica de evaluación, como precisión, para evaluar el rendimiento del sistema de recomendación basado en contenido.\n",
    "   - Realiza pruebas con datos simulados para evaluar la precisión del sistema y ajustar los parámetros según sea necesario.\n",
    "\n",
    "**4. Visualizaciones y Presentación de Resultados:**\n",
    "\n",
    "   - Crea visualizaciones claras y comprensibles para mostrar las recomendaciones generadas por el sistema de recomendación y las reglas de asociación encontradas.\n",
    "   - Utiliza gráficos de barras, gráficos de dispersión y tablas para presentar los resultados de manera efectiva.\n",
    "\n",
    "**5. Manejo de Excepciones y Programación Orientada a Objetos:**\n",
    "\n",
    "   - Implementa manejo de excepciones para manejar posibles errores durante la generación de reglas de asociación y recomendaciones.\n",
    "   - Organiza el código en una estructura de programación orientada a objetos, donde tengas clases para la generación de reglas de asociación, el sistema de recomendación y las visualizaciones.\n",
    "\n",
    "**Nota:**\n",
    "- Utiliza bibliotecas como `scikit-learn` para la implementación del sistema de recomendación basado en contenido y `mlxtend` para el análisis de reglas de asociación.\n",
    "- Los datos utilizados para las pruebas y el análisis deben ser realistas y coherentes para obtener resultados significativos.\n",
    "- Presta especial atención a la presentación visual de los resultados. Las visualizaciones claras y efectivas son esenciales para comunicar los hallazgos.\n",
    "- La programación orientada a objetos puede ayudar a organizar tu código y hacerlo más modular y fácil de entender. Crea clases para las diferentes partes del análisis y la visualización."
   ]
  },
  {
   "cell_type": "code",
   "execution_count": null,
   "id": "0444e0d7",
   "metadata": {},
   "outputs": [],
   "source": []
  }
 ],
 "metadata": {
  "kernelspec": {
   "display_name": "Python 3 (ipykernel)",
   "language": "python",
   "name": "python3"
  },
  "language_info": {
   "codemirror_mode": {
    "name": "ipython",
    "version": 3
   },
   "file_extension": ".py",
   "mimetype": "text/x-python",
   "name": "python",
   "nbconvert_exporter": "python",
   "pygments_lexer": "ipython3",
   "version": "3.11.5"
  }
 },
 "nbformat": 4,
 "nbformat_minor": 5
}
